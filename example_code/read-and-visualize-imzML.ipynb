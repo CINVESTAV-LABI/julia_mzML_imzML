{
 "cells": [
  {
   "cell_type": "markdown",
   "id": "88ae0d71-d484-4d7e-afd9-05689b144418",
   "metadata": {},
   "source": [
    "# Install required packages as needed"
   ]
  },
  {
   "cell_type": "code",
   "execution_count": 1,
   "id": "8035364a-6cd6-47cb-920f-c54c9b5f0a14",
   "metadata": {},
   "outputs": [],
   "source": [
    "# using Pkg\n",
    "# Pkg.add(\"Libz\")"
   ]
  },
  {
   "cell_type": "code",
   "execution_count": 2,
   "id": "b11fd5d6-7997-498a-899f-66da850cc6d0",
   "metadata": {},
   "outputs": [],
   "source": [
    "# Load julia standard libraries"
   ]
  },
  {
   "cell_type": "code",
   "execution_count": 3,
   "id": "a5be48e4-1825-4862-b73f-9215320d6d32",
   "metadata": {},
   "outputs": [],
   "source": [
    "using Libz"
   ]
  },
  {
   "cell_type": "code",
   "execution_count": 4,
   "id": "a47a9c4e-d71f-4ac1-ac5f-fe013f6ace72",
   "metadata": {},
   "outputs": [],
   "source": [
    "# Load imzML libraries"
   ]
  },
  {
   "cell_type": "code",
   "execution_count": 5,
   "id": "22111edf-7a6f-4741-ac25-16622e2ce5d9",
   "metadata": {},
   "outputs": [
    {
     "data": {
      "text/plain": [
       "256-element Vector{UInt32}:\n",
       " 0x00440154\n",
       " 0x00440256\n",
       " 0x00450457\n",
       " 0x00450559\n",
       " 0x0046075a\n",
       " 0x0046085c\n",
       " 0x00460a5d\n",
       " 0x00460b5e\n",
       " 0x00470d60\n",
       " 0x00470e61\n",
       " 0x00471063\n",
       " 0x00471164\n",
       " 0x00471365\n",
       "          ⋮\n",
       " 0x00e2e418\n",
       " 0x00e5e419\n",
       " 0x00e7e419\n",
       " 0x00eae51a\n",
       " 0x00ece51b\n",
       " 0x00efe51c\n",
       " 0x00f1e51d\n",
       " 0x00f4e61e\n",
       " 0x00f6e620\n",
       " 0x00f8e621\n",
       " 0x00fbe723\n",
       " 0x00fde725"
      ]
     },
     "execution_count": 5,
     "metadata": {},
     "output_type": "execute_result"
    }
   ],
   "source": [
    "code_dir = \"../libs\"\n",
    "include( joinpath( code_dir, \"imzML.jl\" ) )\n",
    "include( joinpath( code_dir, \"Decode64.jl\" ) )\n",
    "include( joinpath( code_dir, \"Bitmap.jl\" ) )\n",
    "include( joinpath( code_dir, \"Viridis.jl\" ) )"
   ]
  },
  {
   "cell_type": "code",
   "execution_count": 6,
   "id": "b0ad271b-4dce-43ab-ba6b-3b4fe7e4cd18",
   "metadata": {},
   "outputs": [],
   "source": [
    "# Load imzML file"
   ]
  },
  {
   "cell_type": "code",
   "execution_count": 7,
   "id": "5e30309a-7267-410a-93ad-cf725b0d81b9",
   "metadata": {},
   "outputs": [],
   "source": [
    "# https://www.ebi.ac.uk/pride/archive/projects/PXD001283\n",
    "# wget -c https://ftp.pride.ebi.ac.uk/pride/data/archive/2014/11/PXD001283/HR2MSImouseurinarybladderS096.imzML\n",
    "# wget -c https://ftp.pride.ebi.ac.uk/pride/data/archive/2014/11/PXD001283/HR2MSImouseurinarybladderS096.ibd\n",
    "# Römpp A, Guenther S, Schober Y, Schulz O, Takats Z, Kummer W, Spengler B. \n",
    "# Histology by mass spectrometry: label-free tissue characterization obtained from high-accuracy bioanalytical imaging. \n",
    "#Angew Chem Int Ed Engl. 2010 May 17;49(22):3834-8. doi: 10.1002/anie.200905559. PMID: 20397170.\n",
    "\n",
    "srcPath = \"../data/bladder/\"\n",
    "srcName = \"HR2MSImouseurinarybladderS096\"\n",
    "\n",
    "hFile = open( srcPath * srcName * \".imzML\" )\n",
    "hIbd  = open( srcPath * srcName * \".ibd\" )\n",
    "wrk   = ReadImgHeader( hFile, hIbd )\n",
    "close( hIbd )\n",
    "close( hFile )"
   ]
  },
  {
   "cell_type": "code",
   "execution_count": 8,
   "id": "09e62d39-7a4d-4446-b002-0be6dccb8bff",
   "metadata": {},
   "outputs": [],
   "source": [
    "# Save slice image"
   ]
  },
  {
   "cell_type": "code",
   "execution_count": 9,
   "id": "246b1163-d3f0-49cd-bff1-12b9389ca473",
   "metadata": {},
   "outputs": [],
   "source": [
    "slice = GetSlice( wrk, 798.54, 0.005 )    # Bladder\n",
    "img   = IntQuant( slice )                 # Scale intensity to 256 Gray Scale\n",
    "SaveBitmap( \"Bladder.bmp\", img, ViridisPalette )"
   ]
  }
 ],
 "metadata": {
  "kernelspec": {
   "display_name": "Julia 1.8.5",
   "language": "julia",
   "name": "julia-1.8"
  },
  "language_info": {
   "file_extension": ".jl",
   "mimetype": "application/julia",
   "name": "julia",
   "version": "1.8.5"
  }
 },
 "nbformat": 4,
 "nbformat_minor": 5
}
